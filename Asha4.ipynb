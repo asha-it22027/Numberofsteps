{
  "nbformat": 4,
  "nbformat_minor": 0,
  "metadata": {
    "colab": {
      "provenance": [],
      "authorship_tag": "ABX9TyPZ4nkCpDHCCbh91ZoSvAI5",
      "include_colab_link": true
    },
    "kernelspec": {
      "name": "python3",
      "display_name": "Python 3"
    },
    "language_info": {
      "name": "python"
    }
  },
  "cells": [
    {
      "cell_type": "markdown",
      "metadata": {
        "id": "view-in-github",
        "colab_type": "text"
      },
      "source": [
        "<a href=\"https://colab.research.google.com/github/asha-it22027/Numberofsteps/blob/main/Asha4.ipynb\" target=\"_parent\"><img src=\"https://colab.research.google.com/assets/colab-badge.svg\" alt=\"Open In Colab\"/></a>"
      ]
    },
    {
      "cell_type": "code",
      "execution_count": null,
      "metadata": {
        "id": "ad5CjdcvXoxL"
      },
      "outputs": [],
      "source": [
        "# SimCal.py\n",
        "\n",
        "def add(a, b):\n",
        "  return a+b\n",
        "\n",
        "def sub(a, b):\n",
        "  if a > b:\n",
        "    return a-b\n",
        "  else:\n",
        "    return b-a\n",
        "\n",
        "def mul(a, b):\n",
        "  return a * b\n",
        "\n",
        "def div(a,b):\n",
        "  if b!=0:\n",
        "   return a/b\n",
        "  else:\n",
        "   return \"Infinity\"\n",
        "\n",
        "#TestCal.py\n",
        "\n",
        "import SimCal as s\n",
        "\n",
        "while True:\n",
        "  print(\"Enter 1 to add, \\n2 to subtract, \\n3 to multiplication and \\n4 for division\\n 0 to exit\")\n",
        "\n",
        "  choice = int(input(\"Your Choice:\"))\n",
        "\n",
        "  if choice ==0:\n",
        "     break\n",
        "\n",
        "  if choice==1:\n",
        "     a = int(input(\"Enter a:\"))\n",
        "     b = int(input(\"Enter b:\"))\n",
        "     print(s.add(a,b))\n",
        "  if choice==2:\n",
        "     a = int(input(\"Enter a:\"))\n",
        "     b = int(input(\"Enter b:\"))\n",
        "     print(s.sub(a,b))\n",
        "  if choice==3:\n",
        "     a = int(input(\"Enter a:\"))\n",
        "     b = int(input(\"Enter b:\"))\n",
        "     print(s.mul(a,b))\n",
        "  if choice==4:\n",
        "     a = int(input(\"Enter a:\"))\n",
        "     b = int(input(\"Enter b:\"))\n",
        "     print(s.div(a,b))"
      ]
    },
    {
      "cell_type": "markdown",
      "source": [
        "SimCal.py"
      ],
      "metadata": {
        "id": "3z3PNRuzYKkF"
      }
    },
    {
      "cell_type": "code",
      "source": [
        "def add(a, b):\n",
        "    return a + b\n",
        "\n",
        "def sub(a, b):\n",
        "    if a > b:\n",
        "        return a - b\n",
        "    else:\n",
        "        return b - a\n",
        "\n",
        "def mul(a, b):\n",
        "    return a * b\n",
        "\n",
        "def div(a, b):\n",
        "    if b != 0:\n",
        "        return a / b\n",
        "    else:\n",
        "        return \"Infinity\"\n",
        "\n",
        "def pow(a, b):\n",
        "    return a ** b\n",
        "\n",
        "def mod(a, b):\n",
        "    return a % b\n"
      ],
      "metadata": {
        "id": "SnwBHpdRYST7"
      },
      "execution_count": 3,
      "outputs": []
    }
  ]
}