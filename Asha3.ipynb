{
  "nbformat": 4,
  "nbformat_minor": 0,
  "metadata": {
    "colab": {
      "provenance": [],
      "authorship_tag": "ABX9TyP7MXq4p8cPVHjnOzObVLp8",
      "include_colab_link": true
    },
    "kernelspec": {
      "name": "python3",
      "display_name": "Python 3"
    },
    "language_info": {
      "name": "python"
    }
  },
  "cells": [
    {
      "cell_type": "markdown",
      "metadata": {
        "id": "view-in-github",
        "colab_type": "text"
      },
      "source": [
        "<a href=\"https://colab.research.google.com/github/asha-it22027/Numberofsteps/blob/main/Asha3.ipynb\" target=\"_parent\"><img src=\"https://colab.research.google.com/assets/colab-badge.svg\" alt=\"Open In Colab\"/></a>"
      ]
    },
    {
      "cell_type": "code",
      "execution_count": 1,
      "metadata": {
        "colab": {
          "base_uri": "https://localhost:8080/"
        },
        "id": "10oHdSrWLkHW",
        "outputId": "d11d866d-ec39-478b-dc19-6ebaec995d24"
      },
      "outputs": [
        {
          "output_type": "execute_result",
          "data": {
            "text/plain": [
              "['98=b',\n",
              " '100=d',\n",
              " '102=f',\n",
              " '104=h',\n",
              " '106=j',\n",
              " '108=l',\n",
              " '110=n',\n",
              " '112=p',\n",
              " '114=r',\n",
              " '116=t',\n",
              " '118=v',\n",
              " '120=x',\n",
              " '122=z']"
            ]
          },
          "metadata": {},
          "execution_count": 1
        }
      ],
      "source": [
        "# List comprehension to generate a list of strings with even ASCII codes of lowercase letters.\n",
        "[str(c) + \"=\" + chr(c)  # For each even ASCII value 'c', create a string in the format \"ASCII_value=character\"\n",
        " for c in range(ord('a'), ord('z') + 1)  # Iterate through all ASCII values of lowercase letters (from 'a' to 'z')\n",
        " if c % 2 == 0]  # Include only even ASCII values (i.e., values where c is divisible by 2)\n"
      ]
    },
    {
      "cell_type": "code",
      "source": [
        "# Creating a list of integers from 0 to 9 using a list comprehension\n",
        "li = [i for i in range(10)]  # `range(10)` generates numbers from 0 to 9, and the list comprehension adds each number to `li`\n",
        "print(li)  # Prints the list `li`, which will be [0, 1, 2, 3, 4, 5, 6, 7, 8, 9]\n",
        "\n",
        "# Creating a new list by concatenating the first two elements of `li` and all elements from index 3 onward\n",
        "li1 = li[:2] + li[3:]  # `li[:2]` gives the first two elements (index 0 and 1), and `li[3:]` gives elements starting from index 3 to the end\n",
        "print(li1)  # Prints the new list `li1`, which will exclude the element at index 2 from the original list.\n"
      ],
      "metadata": {
        "colab": {
          "base_uri": "https://localhost:8080/"
        },
        "id": "j63hYF0rL55D",
        "outputId": "b11cb785-cc54-4b45-8a44-12cd1dad5e4e"
      },
      "execution_count": 2,
      "outputs": [
        {
          "output_type": "stream",
          "name": "stdout",
          "text": [
            "[0, 1, 2, 3, 4, 5, 6, 7, 8, 9]\n",
            "[0, 1, 3, 4, 5, 6, 7, 8, 9]\n"
          ]
        }
      ]
    },
    {
      "cell_type": "code",
      "source": [
        "# Way 1: USing set()\n",
        "li = [i for i in range(10)]\n",
        "print(li)\n",
        "li1= li[:2]+li[3:]\n",
        "print(li1)\n",
        "\n",
        "# Find the missing element\n",
        "missing_element = set(li) - set(li1)\n",
        "print(f\"The missing element is: {missing_element.pop()}\")\n",
        "\n",
        "## Way 2: Alternative Way\n",
        "li = [i for i in range(10)]\n",
        "print(f\"Original list: {li}\")\n",
        "li1 = li[:2] + li[3:]\n",
        "print(f\"Modified list: {li1}\")\n",
        "\n",
        "# Find the missing element using a for loop\n",
        "missing_element = None\n",
        "\n",
        "for item in li:\n",
        "    if item not in li1:\n",
        "        missing_element = item\n",
        "        break  # Exit the loop as soon as the missing element is found\n",
        "\n",
        "print(f\"The missing element is: {missing_element}\")"
      ],
      "metadata": {
        "colab": {
          "base_uri": "https://localhost:8080/"
        },
        "id": "cc6exdaEMGpo",
        "outputId": "2b1f67ab-83b1-4eeb-ec17-deba063b2ff9"
      },
      "execution_count": 3,
      "outputs": [
        {
          "output_type": "stream",
          "name": "stdout",
          "text": [
            "[0, 1, 2, 3, 4, 5, 6, 7, 8, 9]\n",
            "[0, 1, 3, 4, 5, 6, 7, 8, 9]\n",
            "The missing element is: 2\n",
            "Original list: [0, 1, 2, 3, 4, 5, 6, 7, 8, 9]\n",
            "Modified list: [0, 1, 3, 4, 5, 6, 7, 8, 9]\n",
            "The missing element is: 2\n"
          ]
        }
      ]
    },
    {
      "cell_type": "code",
      "source": [
        "import sys  # Import the sys module\n",
        "\n",
        "def addComplex(z1, z2):\n",
        "    return z1 + z2  # Adds two complex numbers and returns the result\n",
        "\n",
        "# Define the lists li1 and li2\n",
        "li1 = [2j, (1+3j), (2+4j), (3+5j), (4+6j), (5+7j)]  # List of complex numbers (real part optional)\n",
        "li2 = [(2+4j), (4+6j), (6+8j), (8+10j), (10+12j), (12+14j)]  # Another list of complex numbers\n",
        "\n",
        "# Create an empty list li3 to store the sum of corresponding elements from li1 and li2\n",
        "li3 = []\n",
        "\n",
        "# Iterate over the lists li1 and li2 and add corresponding complex numbers\n",
        "for i, j in zip(li1, li2):\n",
        "    li3.append(addComplex(i, j))\n",
        "\n",
        "# Print the original lists and the resulting list after addition\n",
        "print(f\"li1 = {li1}\\nli2 = {li2}\\nli3 = {li3}\")\n",
        "\n",
        "# Convert the list li3 to a string and encode it as a UTF-16 byte string\n",
        "enc_mess = bytes(str(li3).encode('utf-16'))\n",
        "\n",
        "# Print the size of the encoded message using sys.getsizeof()\n",
        "print(f\"Encoded Message Size of type {type(enc_mess)}: \", sys.getsizeof(enc_mess))\n",
        "\n",
        "# Print the size of the original list li3\n",
        "print(f\"List Size of type {type(li3)}: \", sys.getsizeof(li3))\n",
        "\n",
        "# Print the size of the string representation of li3\n",
        "print(f\"Encoded Message Size of type {type(str(li3))}: \", sys.getsizeof(str(li3)))\n",
        "\n",
        "# Print the final list after the addition of the complex numbers\n",
        "print(\"Original list after addition\", li3)\n",
        "\n",
        "# Print the encoded message in bytes\n",
        "print(f\"Encoded Message: {enc_mess}\")\n"
      ],
      "metadata": {
        "colab": {
          "base_uri": "https://localhost:8080/"
        },
        "id": "On-bz59SM29s",
        "outputId": "63cec0de-c350-4912-aa86-6c8ce4169741"
      },
      "execution_count": 6,
      "outputs": [
        {
          "output_type": "stream",
          "name": "stdout",
          "text": [
            "li1 = [2j, (1+3j), (2+4j), (3+5j), (4+6j), (5+7j)]\n",
            "li2 = [(2+4j), (4+6j), (6+8j), (8+10j), (10+12j), (12+14j)]\n",
            "li3 = [(2+6j), (5+9j), (8+12j), (11+15j), (14+18j), (17+21j)]\n",
            "Encoded Message Size of type <class 'bytes'>:  145\n",
            "List Size of type <class 'list'>:  120\n",
            "Encoded Message Size of type <class 'str'>:  104\n",
            "Original list after addition [(2+6j), (5+9j), (8+12j), (11+15j), (14+18j), (17+21j)]\n",
            "Encoded Message: b'\\xff\\xfe[\\x00(\\x002\\x00+\\x006\\x00j\\x00)\\x00,\\x00 \\x00(\\x005\\x00+\\x009\\x00j\\x00)\\x00,\\x00 \\x00(\\x008\\x00+\\x001\\x002\\x00j\\x00)\\x00,\\x00 \\x00(\\x001\\x001\\x00+\\x001\\x005\\x00j\\x00)\\x00,\\x00 \\x00(\\x001\\x004\\x00+\\x001\\x008\\x00j\\x00)\\x00,\\x00 \\x00(\\x001\\x007\\x00+\\x002\\x001\\x00j\\x00)\\x00]\\x00'\n"
          ]
        }
      ]
    },
    {
      "cell_type": "code",
      "source": [
        "import sys  # Importing the sys module to use sys.getsizeof() for memory size calculation\n",
        "\n",
        "# Define the ComplexOperations class which encapsulates the logic of complex number operations\n",
        "class ComplexOperations:\n",
        "    def __init__(self):\n",
        "        # Initialize li1 and li2 as lists of complex numbers\n",
        "        self.li1 = [complex(_, 2 + _) for _ in range(6)]  # List of complex numbers with real part from 0 to 5\n",
        "        self.li2 = [complex(_, 2 + _) for _ in range(2, 14, 2)]  # List of complex numbers with real part from 2 to 12, step 2\n",
        "        self.li3 = []  # Initialize an empty list where the results will be stored\n",
        "\n",
        "    # Non-static method to add two complex numbers\n",
        "    def add_complex(self, z1, z2):\n",
        "        return z1 + z2  # Returns the sum of two complex numbers\n",
        "\n",
        "    # Non-static method to compute the result of adding corresponding complex numbers from li1 and li2\n",
        "    def compute_result(self):\n",
        "        for i, j in zip(self.li1, self.li2):  # zip pairs corresponding elements from li1 and li2\n",
        "            self.li3.append(self.add_complex(i, j))  # Add corresponding complex numbers and append to li3\n",
        "\n",
        "    # Static method to calculate the memory size of an object\n",
        "    @staticmethod\n",
        "    def calculate_size(obj, encoding='utf-16'):\n",
        "        if isinstance(obj, str):  # If the object is a string, encode it in the specified encoding\n",
        "            encoded_obj = obj.encode(encoding)  # Encode the string to bytes\n",
        "            return sys.getsizeof(encoded_obj), encoded_obj  # Return the size of the encoded byte string and the byte string itself\n",
        "        return sys.getsizeof(obj)  # Return the size of the non-string object\n",
        "\n",
        "    # Non-static method to display the results of the computations\n",
        "    def display_results(self):\n",
        "        # Print the original lists and the resulting list after addition\n",
        "        print(f\"li1 = {self.li1}\\nli2 = {self.li2}\\nli3 = {self.li3}\")\n",
        "\n",
        "        # Convert the list li3 to a string and calculate its memory size\n",
        "        encoded_message = str(self.li3)  # Convert li3 to a string\n",
        "        enc_size, enc_obj = ComplexOperations.calculate_size(encoded_message)  # Get the size of the encoded message\n",
        "\n",
        "        # Calculate the memory size of the list li3 itself\n",
        "        list_size = ComplexOperations.calculate_size(self.li3)\n",
        "\n",
        "        # Print the memory sizes and the encoded message\n",
        "        print(f\"Encoded Message Size (type: {type(enc_obj)}): {enc_size}\")\n",
        "        print(f\"List Size (type: {type(self.li3)}): {list_size}\")\n",
        "        print(f\"Encoded Message: {enc_obj}\")  # Print the encoded byte string\n",
        "        print(\"Original list after addition:\", self.li3)  # Print the final list after the complex number addition\n",
        "\n",
        "# Main function that runs the code\n",
        "def main():\n",
        "    # Create an object of ComplexOperations to perform the operations\n",
        "    complex_ops = ComplexOperations()\n",
        "\n",
        "    # Call the compute_result method to add corresponding complex numbers from li1 and li2\n",
        "    complex_ops.compute_result()\n",
        "\n",
        "    # Call the display_results method to show the results and memory sizes\n",
        "    complex_ops.display_results()\n",
        "\n",
        "# Entry point for the program\n",
        "if __name__ == \"__main__\":\n",
        "    main()  # Run the main function when the script is executed\n"
      ],
      "metadata": {
        "colab": {
          "base_uri": "https://localhost:8080/"
        },
        "id": "aabSCS7wNGiY",
        "outputId": "7a3322cb-2fbd-4267-aa9e-3b0426bee3e3"
      },
      "execution_count": 7,
      "outputs": [
        {
          "output_type": "stream",
          "name": "stdout",
          "text": [
            "li1 = [2j, (1+3j), (2+4j), (3+5j), (4+6j), (5+7j)]\n",
            "li2 = [(2+4j), (4+6j), (6+8j), (8+10j), (10+12j), (12+14j)]\n",
            "li3 = [(2+6j), (5+9j), (8+12j), (11+15j), (14+18j), (17+21j)]\n",
            "Encoded Message Size (type: <class 'bytes'>): 145\n",
            "List Size (type: <class 'list'>): 120\n",
            "Encoded Message: b'\\xff\\xfe[\\x00(\\x002\\x00+\\x006\\x00j\\x00)\\x00,\\x00 \\x00(\\x005\\x00+\\x009\\x00j\\x00)\\x00,\\x00 \\x00(\\x008\\x00+\\x001\\x002\\x00j\\x00)\\x00,\\x00 \\x00(\\x001\\x001\\x00+\\x001\\x005\\x00j\\x00)\\x00,\\x00 \\x00(\\x001\\x004\\x00+\\x001\\x008\\x00j\\x00)\\x00,\\x00 \\x00(\\x001\\x007\\x00+\\x002\\x001\\x00j\\x00)\\x00]\\x00'\n",
            "Original list after addition: [(2+6j), (5+9j), (8+12j), (11+15j), (14+18j), (17+21j)]\n"
          ]
        }
      ]
    }
  ]
}